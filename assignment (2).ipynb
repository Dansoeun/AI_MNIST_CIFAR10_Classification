{
 "cells": [
  {
   "cell_type": "code",
   "execution_count": 2,
   "metadata": {},
   "outputs": [
    {
     "name": "stderr",
     "output_type": "stream",
     "text": [
      "2024-10-09 02:04:44.439702: I tensorflow/core/util/port.cc:153] oneDNN custom operations are on. You may see slightly different numerical results due to floating-point round-off errors from different computation orders. To turn them off, set the environment variable `TF_ENABLE_ONEDNN_OPTS=0`.\n",
      "2024-10-09 02:04:44.453540: E external/local_xla/xla/stream_executor/cuda/cuda_fft.cc:485] Unable to register cuFFT factory: Attempting to register factory for plugin cuFFT when one has already been registered\n",
      "2024-10-09 02:04:44.468662: E external/local_xla/xla/stream_executor/cuda/cuda_dnn.cc:8454] Unable to register cuDNN factory: Attempting to register factory for plugin cuDNN when one has already been registered\n",
      "2024-10-09 02:04:44.473493: E external/local_xla/xla/stream_executor/cuda/cuda_blas.cc:1452] Unable to register cuBLAS factory: Attempting to register factory for plugin cuBLAS when one has already been registered\n",
      "2024-10-09 02:04:44.485180: I tensorflow/core/platform/cpu_feature_guard.cc:210] This TensorFlow binary is optimized to use available CPU instructions in performance-critical operations.\n",
      "To enable the following instructions: SSE4.1 SSE4.2 AVX AVX2 AVX512F AVX512_VNNI FMA, in other operations, rebuild TensorFlow with the appropriate compiler flags.\n"
     ]
    },
    {
     "name": "stdout",
     "output_type": "stream",
     "text": [
      "MNIST:  (60000, 28, 28) (60000,) (10000, 28, 28) (10000,)\n"
     ]
    },
    {
     "name": "stderr",
     "output_type": "stream",
     "text": [
      "2024-10-09 02:04:47.823511: I tensorflow/core/common_runtime/gpu/gpu_device.cc:2021] Created device /job:localhost/replica:0/task:0/device:GPU:0 with 46657 MB memory:  -> device: 0, name: NVIDIA RTX A6000, pci bus id: 0000:1d:00.0, compute capability: 8.6\n",
      "2024-10-09 02:04:47.824147: I tensorflow/core/common_runtime/gpu/gpu_device.cc:2021] Created device /job:localhost/replica:0/task:0/device:GPU:1 with 46657 MB memory:  -> device: 1, name: NVIDIA RTX A6000, pci bus id: 0000:1f:00.0, compute capability: 8.6\n"
     ]
    },
    {
     "name": "stdout",
     "output_type": "stream",
     "text": [
      "MNIST:  (60000, 784) (60000, 10) (10000, 784) (10000, 10)\n",
      "CIFAR-10: (50000, 32, 32, 3) (50000, 1) (10000, 32, 32, 3) (10000, 1)\n"
     ]
    }
   ],
   "source": [
    "from tensorflow import keras\n",
    "import tensorflow as tf\n",
    "import numpy as np\n",
    "# cifar10 to grayscale\n",
    "# mnist, cifar 2차원 맞춰주기\n",
    "#cnn binary classification\n",
    "#mnist data label이 아니면 cifar로 분\n",
    "\n",
    "# MNIST 읽고 텐서 모양 출력\n",
    "(x_train, y_train), (x_test, y_test) = keras.datasets.mnist.load_data()\n",
    "print(\"MNIST: \",x_train.shape,y_train.shape,x_test.shape,y_test.shape)\n",
    "yy_train=tf.one_hot(y_train,10,dtype=tf.int8) #원핫 코드로 변환\n",
    "x_train=x_train.reshape(60000,784) #텐서 모양 변환\n",
    "x_test=x_test.reshape(10000,784)\n",
    "x_train=x_train.astype(np.float32)/255.0\n",
    "x_test=x_test.astype(np.float32)/255.0\n",
    "y_train=tf.keras.utils.to_categorical(y_train,10) #원핫 코드 변환\n",
    "y_test=tf.keras.utils.to_categorical(y_test,10)\n",
    "print(\"MNIST: \",x_train.shape,y_train.shape,x_test.shape,y_test.shape)\n",
    "\n",
    "#CIFAR-10 읽고 텐서 모양 출력\n",
    "(cifar_x_train,cifar_y_train), (cifar_x_test,cifar_y_test)=keras.datasets.cifar10.load_data()\n",
    "print(\"CIFAR-10:\", cifar_x_train.shape,cifar_y_train.shape,cifar_x_test.shape, cifar_y_test.shape)\n"
   ]
  },
  {
   "cell_type": "code",
   "execution_count": 3,
   "metadata": {},
   "outputs": [
    {
     "name": "stdout",
     "output_type": "stream",
     "text": [
      "CIFAR-10: (50000, 32, 32, 3) (50000, 10) (10000, 32, 32, 3) (10000, 10)\n"
     ]
    }
   ],
   "source": [
    "cifar_x_train=cifar_x_train.astype(np.float32)/255.0\n",
    "cifar_x_test=cifar_x_test.astype(np.float32)/255.0\n",
    "cifar_y_train=tf.keras.utils.to_categorical(cifar_y_train,10) #원핫 코드 변환\n",
    "cifar_y_test=tf.keras.utils.to_categorical(cifar_y_test,10)\n",
    "print(\"CIFAR-10:\", cifar_x_train.shape,cifar_y_train.shape,cifar_x_test.shape, cifar_y_test.shape)"
   ]
  },
  {
   "cell_type": "markdown",
   "metadata": {},
   "source": [
    "---\n",
    "### Cifar10 rgb to grayscale"
   ]
  },
  {
   "cell_type": "code",
   "execution_count": 4,
   "metadata": {},
   "outputs": [],
   "source": [
    "import cv2\n",
    "import matplotlib.pyplot as plt\n",
    "\n",
    "def gamma_decompress(value, gamma=2.2):\n",
    "    return value ** gamma\n",
    "\n",
    "def gamma_compress(value, gamma=2.2):\n",
    "    return value ** (1/gamma)\n",
    "\n",
    "def rgb_to_grayscale_gamma_corrected(img, gamma=2.2):\n",
    "    b, g, r = cv2.split(img)  \n",
    "    # 감마 확장을 적용하여 감마 압축된 RGB 값을 선형 공간으로 변환\n",
    "    r_linear = gamma_decompress(r/255.0, gamma)\n",
    "    g_linear = gamma_decompress(g/255.0, gamma)\n",
    "    b_linear = gamma_decompress(b/255.0, gamma)\n",
    "    \n",
    "    # 선형 RGB 값을 사용하여 선형 밝기 값을 계산\n",
    "    y_linear = 0.2126 * r_linear + 0.7152 * g_linear + 0.0722 * b_linear\n",
    "    \n",
    "    # 필요한 경우 선형 밝기 값을 다시 감마 압축하여 그레이스케일 값으로 변환\n",
    "    y_nonlinear = gamma_compress(y_linear, gamma)\n",
    "    \n",
    "    # 0-255 스케일로 변환\n",
    "    return np.rint(y_nonlinear * 255)"
   ]
  },
  {
   "cell_type": "code",
   "execution_count": 5,
   "metadata": {},
   "outputs": [
    {
     "data": {
      "image/png": "[encoded data removed]",
      "text/plain": [
       "<Figure size 640x480 with 1 Axes>"
      ]
     },
     "metadata": {},
     "output_type": "display_data"
    },
    {
     "name": "stdout",
     "output_type": "stream",
     "text": [
      "[[1. 1. 0. ... 0. 0. 0.]\n",
      " [1. 1. 0. ... 0. 0. 0.]\n",
      " [1. 1. 0. ... 0. 0. 0.]\n",
      " ...\n",
      " [1. 1. 1. ... 0. 0. 0.]\n",
      " [1. 1. 1. ... 0. 0. 0.]\n",
      " [1. 1. 1. ... 1. 1. 1.]]\n"
     ]
    }
   ],
   "source": [
    "im=cifar_x_train[1]\n",
    "\n",
    "gray = rgb_to_grayscale_gamma_corrected(im)\n",
    "plt.imshow(gray, cmap='gray')\n",
    "plt.show()\n",
    "print(gray)"
   ]
  },
  {
   "cell_type": "code",
   "execution_count": 6,
   "metadata": {},
   "outputs": [],
   "source": [
    "# CIFAR-10 데이터셋을 흑백으로 변환\n",
    "def convert_to_grayscale(data):\n",
    "    grayscale_data = []\n",
    "    for img in data:\n",
    "        grayscale_img = rgb_to_grayscale_gamma_corrected(img)\n",
    "        grayscale_data.append(grayscale_img)\n",
    "    return np.array(grayscale_data)\n",
    "\n",
    "# 학습 및 테스트 데이터에 대해 흑백 변환 적용\n",
    "cifar_x_train_gray = convert_to_grayscale(cifar_x_train)\n",
    "cifar_x_test_gray = convert_to_grayscale(cifar_x_test)"
   ]
  },
  {
   "cell_type": "code",
   "execution_count": 7,
   "metadata": {},
   "outputs": [
    {
     "name": "stdout",
     "output_type": "stream",
     "text": [
      "CIFAR-10 (Grayscale): (50000, 32, 32) (10000, 32, 32)\n"
     ]
    }
   ],
   "source": [
    "# 변환된 데이터 확인\n",
    "print(\"CIFAR-10 (Grayscale):\", cifar_x_train_gray.shape, cifar_x_test_gray.shape)"
   ]
  },
  {
   "cell_type": "markdown",
   "metadata": {},
   "source": [
    "## Mnist, Cifar10 차원 맞추기"
   ]
  },
  {
   "cell_type": "code",
   "execution_count": 8,
   "metadata": {},
   "outputs": [],
   "source": [
    "def get_numpy_from_nonfixed_2d_array(aa, fixed_length, padding_value=0):\n",
    "    rows = []\n",
    "    for a in aa:\n",
    "        rows.append(np.pad(a, (0, fixed_length), 'constant', constant_values=padding_value)[:fixed_length])\n",
    "    return np.concatenate(rows, axis=0).reshape(-1, fixed_length)"
   ]
  },
  {
   "cell_type": "code",
   "execution_count": 9,
   "metadata": {},
   "outputs": [
    {
     "name": "stdout",
     "output_type": "stream",
     "text": [
      "padding 전 x_train: (60000, 784)\n",
      "X_train shape: (60000, 3072)\n",
      "padding 전 x_test: (10000, 784)\n",
      "x_test shape: (60000, 3072)\n"
     ]
    }
   ],
   "source": [
    "print(\"padding 전 x_train:\",x_train.shape)\n",
    "x_train=get_numpy_from_nonfixed_2d_array(x_train, fixed_length=3072, padding_value=0)\n",
    "print(\"X_train shape:\",x_train.shape)\n",
    "\n",
    "print(\"padding 전 x_test:\",x_test.shape)\n",
    "x_test=get_numpy_from_nonfixed_2d_array(x_train, fixed_length=3072, padding_value=0)\n",
    "print(\"x_test shape:\",x_test.shape)"
   ]
  },
  {
   "cell_type": "code",
   "execution_count": 10,
   "metadata": {},
   "outputs": [
    {
     "name": "stdout",
     "output_type": "stream",
     "text": [
      "MNist: (180000, 32, 32, 1) (60000, 10, 10)\n"
     ]
    }
   ],
   "source": [
    "# CNN에 맞추기 위해 4D로 변환\n",
    "x_train = x_train.reshape(-1, 32, 32, 1)\n",
    "x_test = x_test.reshape(-1, 32, 32, 1)\n",
    "\n",
    "# CIFAR-10 레이블을 원핫 인코딩으로 변환\n",
    "y_train = tf.keras.utils.to_categorical(y_train, 10)\n",
    "y_test = tf.keras.utils.to_categorical(y_test, 10)\n",
    "\n",
    "print(\"MNist:\", x_train.shape, y_train.shape)"
   ]
  },
  {
   "cell_type": "code",
   "execution_count": 11,
   "metadata": {},
   "outputs": [
    {
     "name": "stdout",
     "output_type": "stream",
     "text": [
      "CIFAR-10 (50000, 32, 32, 3) (50000, 10, 10)\n"
     ]
    }
   ],
   "source": [
    "# CNN에 맞추기 위해 4D로 변환\n",
    "cifar_x_train_gray = cifar_x_train_gray.reshape(-1, 32, 32, 1)\n",
    "cifar_x_test_gray = cifar_x_test_gray.reshape(-1, 32, 32, 1)\n",
    "\n",
    "# CIFAR-10 레이블을 원핫 인코딩으로 변환\n",
    "cifar_y_train = tf.keras.utils.to_categorical(cifar_y_train, 10)\n",
    "cifar_y_test = tf.keras.utils.to_categorical(cifar_y_test, 10)\n",
    "\n",
    "print(\"CIFAR-10\", cifar_x_train.shape, cifar_y_train.shape)"
   ]
  },
  {
   "cell_type": "code",
   "execution_count": 12,
   "metadata": {},
   "outputs": [
    {
     "name": "stdout",
     "output_type": "stream",
     "text": [
      "MNist: (180000, 32, 32, 1) (60000, 10, 10) (180000, 32, 32, 1) (10000, 10, 10)\n",
      "CIFAR-10:  (50000, 32, 32, 1) (50000, 10, 10) (10000, 32, 32, 1) (10000, 10, 10)\n"
     ]
    }
   ],
   "source": [
    "#모양 체크 \n",
    "print(\"MNist:\", x_train.shape, y_train.shape, x_test.shape, y_test.shape)\n",
    "print(\"CIFAR-10: \",cifar_x_train_gray.shape, cifar_y_train.shape, cifar_x_test_gray.shape, cifar_y_test.shape)"
   ]
  },
  {
   "cell_type": "code",
   "execution_count": 13,
   "metadata": {},
   "outputs": [
    {
     "name": "stdout",
     "output_type": "stream",
     "text": [
      "x_train_data : (230000, 32, 32, 1) x_test_data:(190000, 32, 32, 1) y_train_data: (110000, 10, 10) y_test_data: (20000, 10, 10) \n"
     ]
    }
   ],
   "source": [
    "x_train_data=np.concatenate([x_train, cifar_x_train_gray])\n",
    "x_test_data=np.concatenate([x_test, cifar_x_test_gray])\n",
    "y_train_data=np.concatenate([y_train, cifar_y_train])\n",
    "y_test_data=np.concatenate([y_test, cifar_y_test])\n",
    "\n",
    "#print(f\"x_train_data : {x_train_data.shape} x_test_data:{x_test_data.shape} \")\n",
    "print(f\"x_train_data : {x_train_data.shape} x_test_data:{x_test_data.shape} y_train_data: {y_train_data.shape} y_test_data: {y_test_data.shape} \")"
   ]
  },
  {
   "cell_type": "markdown",
   "metadata": {},
   "source": [
    "---\n",
    "## CNN Model 구성"
   ]
  },
  {
   "cell_type": "code",
   "execution_count": 14,
   "metadata": {},
   "outputs": [],
   "source": [
    "import tensorflow as tf\n",
    "\n",
    "x_train_data=tf.stack(x_train_data)\n",
    "y_train_data=tf.stack(y_train_data)\n",
    "#data_list = tf.stack(data_list)\n",
    "#y = tf.stack(y)"
   ]
  },
  {
   "cell_type": "code",
   "execution_count": 15,
   "metadata": {},
   "outputs": [
    {
     "name": "stdout",
     "output_type": "stream",
     "text": [
      "x_train_data : (110000, 32, 32, 1) x_test_data:(190000, 32, 32, 1) y_train_data: (110000, 10) y_test_data: (200000, 10) \n"
     ]
    }
   ],
   "source": [
    "y_train_data = tf.reshape(y_train_data, (-1, 10))\n",
    "y_test_data = tf.reshape(y_test_data, (-1, 10))\n",
    "\n",
    "\n",
    "x_train_data = x_train_data[:110000]\n",
    "y_train_data = y_train_data[:110000]  \n",
    "\n",
    "print(f\"x_train_data : {x_train_data.shape} x_test_data:{x_test_data.shape} y_train_data: {y_train_data.shape} y_test_data: {y_test_data.shape} \")"
   ]
  },
  {
   "cell_type": "code",
   "execution_count": 16,
   "metadata": {},
   "outputs": [
    {
     "name": "stdout",
     "output_type": "stream",
     "text": [
      "x_train_data : (110000, 32, 32, 1) x_test_data:(190000, 32, 32, 1) y_train_data: (110000, 10) y_test_data: (190000, 10) \n"
     ]
    }
   ],
   "source": [
    "y_test_data=y_test_data[:190000]\n",
    "print(f\"x_train_data : {x_train_data.shape} x_test_data:{x_test_data.shape} y_train_data: {y_train_data.shape} y_test_data: {y_test_data.shape} \")"
   ]
  },
  {
   "cell_type": "code",
   "execution_count": 15,
   "metadata": {
    "scrolled": true
   },
   "outputs": [
    {
     "name": "stderr",
     "output_type": "stream",
     "text": [
      "/raid/coss35/anaconda3/envs/project/lib/python3.9/site-packages/keras/src/layers/convolutional/base_conv.py:107: UserWarning: Do not pass an `input_shape`/`input_dim` argument to a layer. When using Sequential models, prefer using an `Input(shape)` object as the first layer in the model instead.\n",
      "  super().__init__(activity_regularizer=activity_regularizer, **kwargs)\n"
     ]
    },
    {
     "name": "stdout",
     "output_type": "stream",
     "text": [
      "Epoch 1/100\n"
     ]
    },
    {
     "name": "stderr",
     "output_type": "stream",
     "text": [
      "WARNING: All log messages before absl::InitializeLog() is called are written to STDERR\n",
      "I0000 00:00:1728328140.400973  662681 service.cc:146] XLA service 0x7feb400190c0 initialized for platform CUDA (this does not guarantee that XLA will be used). Devices:\n",
      "I0000 00:00:1728328140.401011  662681 service.cc:154]   StreamExecutor device (0): NVIDIA RTX A6000, Compute Capability 8.6\n",
      "I0000 00:00:1728328140.401017  662681 service.cc:154]   StreamExecutor device (1): NVIDIA RTX A6000, Compute Capability 8.6\n",
      "2024-10-08 04:09:00.427426: I tensorflow/compiler/mlir/tensorflow/utils/dump_mlir_util.cc:268] disabling MLIR crash reproducer, set env var `MLIR_CRASH_REPRODUCER_DIRECTORY` to enable.\n",
      "2024-10-08 04:09:00.536856: I external/local_xla/xla/stream_executor/cuda/cuda_dnn.cc:531] Loaded cuDNN version 90300\n",
      "2024-10-08 04:09:10.565562: I external/local_xla/xla/stream_executor/cuda/cuda_asm_compiler.cc:393] ptxas warning : Registers are spilled to local memory in function 'gemm_fusion_dot_512', 20 bytes spill stores, 20 bytes spill loads\n",
      "\n",
      "I0000 00:00:1728328158.673372  662681 device_compiler.h:188] Compiled cluster using XLA!  This line is logged at most once for the lifetime of the process.\n",
      "2024-10-08 04:09:30.255750: I external/local_xla/xla/stream_executor/cuda/cuda_asm_compiler.cc:393] ptxas warning : Registers are spilled to local memory in function 'gemm_fusion_dot_512', 444 bytes spill stores, 444 bytes spill loads\n",
      "\n",
      "2024-10-08 04:09:32.037686: I external/local_xla/xla/stream_executor/cuda/cuda_asm_compiler.cc:393] ptxas warning : Registers are spilled to local memory in function 'gemm_fusion_dot_512', 436 bytes spill stores, 436 bytes spill loads\n",
      "\n"
     ]
    },
    {
     "name": "stdout",
     "output_type": "stream",
     "text": [
      "860/860 - 36s - 42ms/step - accuracy: 0.8995 - loss: 0.3389\n",
      "Epoch 2/100\n",
      "860/860 - 9s - 11ms/step - accuracy: 0.9000 - loss: 0.3283\n",
      "Epoch 3/100\n",
      "860/860 - 5s - 6ms/step - accuracy: 0.9000 - loss: 0.3277\n",
      "Epoch 4/100\n",
      "860/860 - 3s - 4ms/step - accuracy: 0.9000 - loss: 0.3262\n",
      "Epoch 5/100\n",
      "860/860 - 5s - 6ms/step - accuracy: 0.9000 - loss: 0.3253\n",
      "Epoch 6/100\n",
      "860/860 - 5s - 6ms/step - accuracy: 0.9000 - loss: 0.3247\n",
      "Epoch 7/100\n",
      "860/860 - 5s - 6ms/step - accuracy: 0.9000 - loss: 0.3223\n",
      "Epoch 8/100\n",
      "860/860 - 3s - 4ms/step - accuracy: 0.9003 - loss: 0.3178\n",
      "Epoch 9/100\n",
      "860/860 - 5s - 6ms/step - accuracy: 0.9018 - loss: 0.3103\n",
      "Epoch 10/100\n",
      "860/860 - 5s - 6ms/step - accuracy: 0.9048 - loss: 0.2984\n",
      "Epoch 11/100\n",
      "860/860 - 5s - 6ms/step - accuracy: 0.9098 - loss: 0.2838\n",
      "Epoch 12/100\n",
      "860/860 - 3s - 4ms/step - accuracy: 0.9142 - loss: 0.2697\n",
      "Epoch 13/100\n",
      "860/860 - 3s - 4ms/step - accuracy: 0.9188 - loss: 0.2575\n",
      "Epoch 14/100\n",
      "860/860 - 3s - 4ms/step - accuracy: 0.9223 - loss: 0.2488\n",
      "Epoch 15/100\n",
      "860/860 - 5s - 6ms/step - accuracy: 0.9242 - loss: 0.2433\n",
      "Epoch 16/100\n",
      "860/860 - 5s - 6ms/step - accuracy: 0.9266 - loss: 0.2362\n",
      "Epoch 17/100\n",
      "860/860 - 5s - 6ms/step - accuracy: 0.9273 - loss: 0.2348\n",
      "Epoch 18/100\n",
      "860/860 - 3s - 4ms/step - accuracy: 0.9285 - loss: 0.2320\n",
      "Epoch 19/100\n",
      "860/860 - 5s - 6ms/step - accuracy: 0.9285 - loss: 0.2312\n",
      "Epoch 20/100\n",
      "860/860 - 3s - 4ms/step - accuracy: 0.9294 - loss: 0.2299\n",
      "Epoch 21/100\n",
      "860/860 - 3s - 4ms/step - accuracy: 0.9299 - loss: 0.2287\n",
      "Epoch 22/100\n",
      "860/860 - 5s - 6ms/step - accuracy: 0.9301 - loss: 0.2275\n",
      "Epoch 23/100\n",
      "860/860 - 3s - 4ms/step - accuracy: 0.9295 - loss: 0.2285\n",
      "Epoch 24/100\n",
      "860/860 - 5s - 6ms/step - accuracy: 0.9304 - loss: 0.2262\n",
      "Epoch 25/100\n",
      "860/860 - 5s - 6ms/step - accuracy: 0.9301 - loss: 0.2283\n",
      "Epoch 26/100\n",
      "860/860 - 5s - 6ms/step - accuracy: 0.9304 - loss: 0.2267\n",
      "Epoch 27/100\n",
      "860/860 - 3s - 4ms/step - accuracy: 0.9309 - loss: 0.2254\n",
      "Epoch 28/100\n",
      "860/860 - 5s - 6ms/step - accuracy: 0.9302 - loss: 0.2276\n",
      "Epoch 29/100\n",
      "860/860 - 5s - 6ms/step - accuracy: 0.9302 - loss: 0.2272\n",
      "Epoch 30/100\n",
      "860/860 - 5s - 6ms/step - accuracy: 0.9309 - loss: 0.2244\n",
      "Epoch 31/100\n",
      "860/860 - 3s - 4ms/step - accuracy: 0.9310 - loss: 0.2242\n",
      "Epoch 32/100\n",
      "860/860 - 3s - 4ms/step - accuracy: 0.9314 - loss: 0.2236\n",
      "Epoch 33/100\n",
      "860/860 - 5s - 6ms/step - accuracy: 0.9309 - loss: 0.2254\n",
      "Epoch 34/100\n",
      "860/860 - 5s - 6ms/step - accuracy: 0.9311 - loss: 0.2251\n",
      "Epoch 35/100\n",
      "860/860 - 5s - 6ms/step - accuracy: 0.9309 - loss: 0.2250\n",
      "Epoch 36/100\n",
      "860/860 - 5s - 6ms/step - accuracy: 0.9312 - loss: 0.2235\n",
      "Epoch 37/100\n",
      "860/860 - 5s - 6ms/step - accuracy: 0.9318 - loss: 0.2220\n",
      "Epoch 38/100\n",
      "860/860 - 3s - 4ms/step - accuracy: 0.9321 - loss: 0.2209\n",
      "Epoch 39/100\n",
      "860/860 - 5s - 6ms/step - accuracy: 0.9304 - loss: 0.2275\n",
      "Epoch 40/100\n",
      "860/860 - 5s - 6ms/step - accuracy: 0.9313 - loss: 0.2241\n",
      "Epoch 41/100\n",
      "860/860 - 3s - 4ms/step - accuracy: 0.9314 - loss: 0.2248\n",
      "Epoch 42/100\n",
      "860/860 - 3s - 4ms/step - accuracy: 0.9318 - loss: 0.2226\n",
      "Epoch 43/100\n",
      "860/860 - 3s - 4ms/step - accuracy: 0.9326 - loss: 0.2196\n",
      "Epoch 44/100\n",
      "860/860 - 5s - 6ms/step - accuracy: 0.9314 - loss: 0.2234\n",
      "Epoch 45/100\n",
      "860/860 - 3s - 4ms/step - accuracy: 0.9314 - loss: 0.2235\n",
      "Epoch 46/100\n",
      "860/860 - 5s - 6ms/step - accuracy: 0.9316 - loss: 0.2229\n",
      "Epoch 47/100\n",
      "860/860 - 3s - 4ms/step - accuracy: 0.9319 - loss: 0.2219\n",
      "Epoch 48/100\n",
      "860/860 - 3s - 4ms/step - accuracy: 0.9321 - loss: 0.2208\n",
      "Epoch 49/100\n",
      "860/860 - 3s - 4ms/step - accuracy: 0.9318 - loss: 0.2222\n",
      "Epoch 50/100\n",
      "860/860 - 5s - 6ms/step - accuracy: 0.9312 - loss: 0.2246\n",
      "Epoch 51/100\n",
      "860/860 - 3s - 4ms/step - accuracy: 0.9323 - loss: 0.2200\n",
      "Epoch 52/100\n",
      "860/860 - 5s - 6ms/step - accuracy: 0.9318 - loss: 0.2222\n",
      "Epoch 53/100\n",
      "860/860 - 5s - 6ms/step - accuracy: 0.9316 - loss: 0.2227\n",
      "Epoch 54/100\n",
      "860/860 - 5s - 6ms/step - accuracy: 0.9317 - loss: 0.2232\n",
      "Epoch 55/100\n",
      "860/860 - 3s - 4ms/step - accuracy: 0.9322 - loss: 0.2204\n",
      "Epoch 56/100\n",
      "860/860 - 3s - 4ms/step - accuracy: 0.9325 - loss: 0.2196\n",
      "Epoch 57/100\n",
      "860/860 - 3s - 4ms/step - accuracy: 0.9319 - loss: 0.2223\n",
      "Epoch 58/100\n",
      "860/860 - 5s - 6ms/step - accuracy: 0.9313 - loss: 0.2246\n",
      "Epoch 59/100\n",
      "860/860 - 5s - 6ms/step - accuracy: 0.9321 - loss: 0.2211\n",
      "Epoch 60/100\n",
      "860/860 - 3s - 4ms/step - accuracy: 0.9322 - loss: 0.2205\n",
      "Epoch 61/100\n",
      "860/860 - 5s - 6ms/step - accuracy: 0.9323 - loss: 0.2202\n",
      "Epoch 62/100\n",
      "860/860 - 5s - 6ms/step - accuracy: 0.9315 - loss: 0.2236\n",
      "Epoch 63/100\n",
      "860/860 - 3s - 4ms/step - accuracy: 0.9318 - loss: 0.2222\n",
      "Epoch 64/100\n",
      "860/860 - 3s - 4ms/step - accuracy: 0.9321 - loss: 0.2218\n",
      "Epoch 65/100\n",
      "860/860 - 5s - 6ms/step - accuracy: 0.9320 - loss: 0.2219\n",
      "Epoch 66/100\n",
      "860/860 - 5s - 6ms/step - accuracy: 0.9321 - loss: 0.2215\n",
      "Epoch 67/100\n",
      "860/860 - 5s - 6ms/step - accuracy: 0.9325 - loss: 0.2194\n",
      "Epoch 68/100\n",
      "860/860 - 5s - 6ms/step - accuracy: 0.9318 - loss: 0.2221\n",
      "Epoch 69/100\n",
      "860/860 - 3s - 4ms/step - accuracy: 0.9324 - loss: 0.2200\n",
      "Epoch 70/100\n",
      "860/860 - 5s - 6ms/step - accuracy: 0.9316 - loss: 0.2231\n",
      "Epoch 71/100\n",
      "860/860 - 3s - 4ms/step - accuracy: 0.9323 - loss: 0.2209\n",
      "Epoch 72/100\n",
      "860/860 - 5s - 6ms/step - accuracy: 0.9320 - loss: 0.2221\n",
      "Epoch 73/100\n",
      "860/860 - 5s - 6ms/step - accuracy: 0.9324 - loss: 0.2198\n",
      "Epoch 74/100\n",
      "860/860 - 5s - 6ms/step - accuracy: 0.9327 - loss: 0.2188\n",
      "Epoch 75/100\n",
      "860/860 - 5s - 6ms/step - accuracy: 0.9315 - loss: 0.2243\n",
      "Epoch 76/100\n",
      "860/860 - 5s - 6ms/step - accuracy: 0.9322 - loss: 0.2208\n",
      "Epoch 77/100\n",
      "860/860 - 3s - 4ms/step - accuracy: 0.9325 - loss: 0.2198\n",
      "Epoch 78/100\n",
      "860/860 - 5s - 6ms/step - accuracy: 0.9319 - loss: 0.2221\n",
      "Epoch 79/100\n",
      "860/860 - 3s - 4ms/step - accuracy: 0.9320 - loss: 0.2221\n",
      "Epoch 80/100\n",
      "860/860 - 5s - 6ms/step - accuracy: 0.9325 - loss: 0.2195\n",
      "Epoch 81/100\n",
      "860/860 - 5s - 6ms/step - accuracy: 0.9328 - loss: 0.2185\n",
      "Epoch 82/100\n",
      "860/860 - 5s - 6ms/step - accuracy: 0.9319 - loss: 0.2219\n",
      "Epoch 83/100\n",
      "860/860 - 3s - 4ms/step - accuracy: 0.9322 - loss: 0.2210\n",
      "Epoch 84/100\n",
      "860/860 - 5s - 6ms/step - accuracy: 0.9318 - loss: 0.2223\n",
      "Epoch 85/100\n",
      "860/860 - 5s - 6ms/step - accuracy: 0.9325 - loss: 0.2193\n",
      "Epoch 86/100\n",
      "860/860 - 3s - 4ms/step - accuracy: 0.9326 - loss: 0.2190\n",
      "Epoch 87/100\n",
      "860/860 - 3s - 4ms/step - accuracy: 0.9317 - loss: 0.2231\n",
      "Epoch 88/100\n",
      "860/860 - 5s - 6ms/step - accuracy: 0.9319 - loss: 0.2222\n",
      "Epoch 89/100\n",
      "860/860 - 3s - 4ms/step - accuracy: 0.9328 - loss: 0.2184\n",
      "Epoch 90/100\n",
      "860/860 - 5s - 6ms/step - accuracy: 0.9328 - loss: 0.2185\n",
      "Epoch 91/100\n",
      "860/860 - 3s - 4ms/step - accuracy: 0.9321 - loss: 0.2214\n",
      "Epoch 92/100\n",
      "860/860 - 3s - 4ms/step - accuracy: 0.9321 - loss: 0.2215\n",
      "Epoch 93/100\n",
      "860/860 - 5s - 6ms/step - accuracy: 0.9320 - loss: 0.2217\n",
      "Epoch 94/100\n",
      "860/860 - 5s - 6ms/step - accuracy: 0.9324 - loss: 0.2199\n",
      "Epoch 95/100\n",
      "860/860 - 5s - 6ms/step - accuracy: 0.9324 - loss: 0.2204\n",
      "Epoch 96/100\n",
      "860/860 - 3s - 4ms/step - accuracy: 0.9323 - loss: 0.2203\n",
      "Epoch 97/100\n",
      "860/860 - 3s - 4ms/step - accuracy: 0.9325 - loss: 0.2195\n",
      "Epoch 98/100\n",
      "860/860 - 3s - 4ms/step - accuracy: 0.9323 - loss: 0.2204\n",
      "Epoch 99/100\n",
      "860/860 - 3s - 4ms/step - accuracy: 0.9320 - loss: 0.2219\n",
      "Epoch 100/100\n",
      "860/860 - 5s - 6ms/step - accuracy: 0.9324 - loss: 0.2203\n"
     ]
    }
   ],
   "source": [
    "from keras.models import Sequential\n",
    "from keras.layers import Dense, Flatten, Conv2D, MaxPooling2D, Dropout\n",
    "from keras.optimizers import Adam\n",
    "import numpy as np\n",
    "\n",
    "\n",
    "# 2. Model 구성\n",
    "model = Sequential()\n",
    "model.add(Conv2D(padding=\"same\",filters=32, kernel_size=(4, 4), input_shape=(32, 32, 1)))\n",
    "model.add(Conv2D(64, (3, 3), padding=\"same\",activation='relu'))\n",
    "model.add(Flatten())\n",
    "model.add(Dense(256))\n",
    "model.add(Dense(128, activation='relu'))\n",
    "model.add(Dense(10, activation='softmax'))  # Multi-class classification\n",
    "\n",
    "# 3. Compile the model\n",
    "model.compile(loss='categorical_crossentropy',  \n",
    "              optimizer=Adam(learning_rate=0.001),\n",
    "              metrics=['accuracy'])\n",
    "\n",
    "# 4. Train the model\n",
    "history=model.fit(np.array(x_train_data), np.array(y_train_data), verbose=2, epochs=100, batch_size=128)\n"
   ]
  },
  {
   "cell_type": "code",
   "execution_count": 16,
   "metadata": {},
   "outputs": [
    {
     "name": "stdout",
     "output_type": "stream",
     "text": [
      "5938/5938 - 15s - 2ms/step - accuracy: 0.8761 - loss: 2.1703\n",
      "정확률은 87.60789632797241\n"
     ]
    }
   ],
   "source": [
    "res=model.evaluate(x_test_data,y_test_data, verbose = 2)\n",
    "print(\"정확률은\", res[1]*100)"
   ]
  },
  {
   "cell_type": "code",
   "execution_count": 28,
   "metadata": {},
   "outputs": [],
   "source": [
    "model.save(\"CNN_1008.keras\")"
   ]
  },
  {
   "cell_type": "code",
   "execution_count": 18,
   "metadata": {},
   "outputs": [
    {
     "name": "stderr",
     "output_type": "stream",
     "text": [
      "/raid/coss35/anaconda3/envs/project/lib/python3.9/site-packages/keras/src/saving/saving_lib.py:719: UserWarning: Skipping variable loading for optimizer 'rmsprop', because it has 12 variables whereas the saved optimizer has 22 variables. \n",
      "  saveable.load_own_variables(weights_store.get(inner_path))\n"
     ]
    },
    {
     "data": {
      "text/html": [
       "<pre style=\"white-space:pre;overflow-x:auto;line-height:normal;font-family:Menlo,'DejaVu Sans Mono',consolas,'Courier New',monospace\"><span style=\"font-weight: bold\">Model: \"sequential\"</span>\n",
       "</pre>\n"
      ],
      "text/plain": [
       "\u001b[1mModel: \"sequential\"\u001b[0m\n"
      ]
     },
     "metadata": {},
     "output_type": "display_data"
    },
    {
     "data": {
      "text/html": [
       "<pre style=\"white-space:pre;overflow-x:auto;line-height:normal;font-family:Menlo,'DejaVu Sans Mono',consolas,'Courier New',monospace\">┏━━━━━━━━━━━━━━━━━━━━━━━━━━━━━━━━━┳━━━━━━━━━━━━━━━━━━━━━━━━┳━━━━━━━━━━━━━━━┓\n",
       "┃<span style=\"font-weight: bold\"> Layer (type)                    </span>┃<span style=\"font-weight: bold\"> Output Shape           </span>┃<span style=\"font-weight: bold\">       Param # </span>┃\n",
       "┡━━━━━━━━━━━━━━━━━━━━━━━━━━━━━━━━━╇━━━━━━━━━━━━━━━━━━━━━━━━╇━━━━━━━━━━━━━━━┩\n",
       "│ conv2d (<span style=\"color: #0087ff; text-decoration-color: #0087ff\">Conv2D</span>)                 │ (<span style=\"color: #00d7ff; text-decoration-color: #00d7ff\">None</span>, <span style=\"color: #00af00; text-decoration-color: #00af00\">32</span>, <span style=\"color: #00af00; text-decoration-color: #00af00\">32</span>, <span style=\"color: #00af00; text-decoration-color: #00af00\">32</span>)     │           <span style=\"color: #00af00; text-decoration-color: #00af00\">544</span> │\n",
       "├─────────────────────────────────┼────────────────────────┼───────────────┤\n",
       "│ conv2d_1 (<span style=\"color: #0087ff; text-decoration-color: #0087ff\">Conv2D</span>)               │ (<span style=\"color: #00d7ff; text-decoration-color: #00d7ff\">None</span>, <span style=\"color: #00af00; text-decoration-color: #00af00\">32</span>, <span style=\"color: #00af00; text-decoration-color: #00af00\">32</span>, <span style=\"color: #00af00; text-decoration-color: #00af00\">64</span>)     │        <span style=\"color: #00af00; text-decoration-color: #00af00\">18,496</span> │\n",
       "├─────────────────────────────────┼────────────────────────┼───────────────┤\n",
       "│ flatten (<span style=\"color: #0087ff; text-decoration-color: #0087ff\">Flatten</span>)               │ (<span style=\"color: #00d7ff; text-decoration-color: #00d7ff\">None</span>, <span style=\"color: #00af00; text-decoration-color: #00af00\">65536</span>)          │             <span style=\"color: #00af00; text-decoration-color: #00af00\">0</span> │\n",
       "├─────────────────────────────────┼────────────────────────┼───────────────┤\n",
       "│ dense (<span style=\"color: #0087ff; text-decoration-color: #0087ff\">Dense</span>)                   │ (<span style=\"color: #00d7ff; text-decoration-color: #00d7ff\">None</span>, <span style=\"color: #00af00; text-decoration-color: #00af00\">256</span>)            │    <span style=\"color: #00af00; text-decoration-color: #00af00\">16,777,472</span> │\n",
       "├─────────────────────────────────┼────────────────────────┼───────────────┤\n",
       "│ dense_1 (<span style=\"color: #0087ff; text-decoration-color: #0087ff\">Dense</span>)                 │ (<span style=\"color: #00d7ff; text-decoration-color: #00d7ff\">None</span>, <span style=\"color: #00af00; text-decoration-color: #00af00\">128</span>)            │        <span style=\"color: #00af00; text-decoration-color: #00af00\">32,896</span> │\n",
       "├─────────────────────────────────┼────────────────────────┼───────────────┤\n",
       "│ dense_2 (<span style=\"color: #0087ff; text-decoration-color: #0087ff\">Dense</span>)                 │ (<span style=\"color: #00d7ff; text-decoration-color: #00d7ff\">None</span>, <span style=\"color: #00af00; text-decoration-color: #00af00\">10</span>)             │         <span style=\"color: #00af00; text-decoration-color: #00af00\">1,290</span> │\n",
       "└─────────────────────────────────┴────────────────────────┴───────────────┘\n",
       "</pre>\n"
      ],
      "text/plain": [
       "┏━━━━━━━━━━━━━━━━━━━━━━━━━━━━━━━━━┳━━━━━━━━━━━━━━━━━━━━━━━━┳━━━━━━━━━━━━━━━┓\n",
       "┃\u001b[1m \u001b[0m\u001b[1mLayer (type)                   \u001b[0m\u001b[1m \u001b[0m┃\u001b[1m \u001b[0m\u001b[1mOutput Shape          \u001b[0m\u001b[1m \u001b[0m┃\u001b[1m \u001b[0m\u001b[1m      Param #\u001b[0m\u001b[1m \u001b[0m┃\n",
       "┡━━━━━━━━━━━━━━━━━━━━━━━━━━━━━━━━━╇━━━━━━━━━━━━━━━━━━━━━━━━╇━━━━━━━━━━━━━━━┩\n",
       "│ conv2d (\u001b[38;5;33mConv2D\u001b[0m)                 │ (\u001b[38;5;45mNone\u001b[0m, \u001b[38;5;34m32\u001b[0m, \u001b[38;5;34m32\u001b[0m, \u001b[38;5;34m32\u001b[0m)     │           \u001b[38;5;34m544\u001b[0m │\n",
       "├─────────────────────────────────┼────────────────────────┼───────────────┤\n",
       "│ conv2d_1 (\u001b[38;5;33mConv2D\u001b[0m)               │ (\u001b[38;5;45mNone\u001b[0m, \u001b[38;5;34m32\u001b[0m, \u001b[38;5;34m32\u001b[0m, \u001b[38;5;34m64\u001b[0m)     │        \u001b[38;5;34m18,496\u001b[0m │\n",
       "├─────────────────────────────────┼────────────────────────┼───────────────┤\n",
       "│ flatten (\u001b[38;5;33mFlatten\u001b[0m)               │ (\u001b[38;5;45mNone\u001b[0m, \u001b[38;5;34m65536\u001b[0m)          │             \u001b[38;5;34m0\u001b[0m │\n",
       "├─────────────────────────────────┼────────────────────────┼───────────────┤\n",
       "│ dense (\u001b[38;5;33mDense\u001b[0m)                   │ (\u001b[38;5;45mNone\u001b[0m, \u001b[38;5;34m256\u001b[0m)            │    \u001b[38;5;34m16,777,472\u001b[0m │\n",
       "├─────────────────────────────────┼────────────────────────┼───────────────┤\n",
       "│ dense_1 (\u001b[38;5;33mDense\u001b[0m)                 │ (\u001b[38;5;45mNone\u001b[0m, \u001b[38;5;34m128\u001b[0m)            │        \u001b[38;5;34m32,896\u001b[0m │\n",
       "├─────────────────────────────────┼────────────────────────┼───────────────┤\n",
       "│ dense_2 (\u001b[38;5;33mDense\u001b[0m)                 │ (\u001b[38;5;45mNone\u001b[0m, \u001b[38;5;34m10\u001b[0m)             │         \u001b[38;5;34m1,290\u001b[0m │\n",
       "└─────────────────────────────────┴────────────────────────┴───────────────┘\n"
      ]
     },
     "metadata": {},
     "output_type": "display_data"
    },
    {
     "data": {
      "text/html": [
       "<pre style=\"white-space:pre;overflow-x:auto;line-height:normal;font-family:Menlo,'DejaVu Sans Mono',consolas,'Courier New',monospace\"><span style=\"font-weight: bold\"> Total params: </span><span style=\"color: #00af00; text-decoration-color: #00af00\">33,661,398</span> (128.41 MB)\n",
       "</pre>\n"
      ],
      "text/plain": [
       "\u001b[1m Total params: \u001b[0m\u001b[38;5;34m33,661,398\u001b[0m (128.41 MB)\n"
      ]
     },
     "metadata": {},
     "output_type": "display_data"
    },
    {
     "data": {
      "text/html": [
       "<pre style=\"white-space:pre;overflow-x:auto;line-height:normal;font-family:Menlo,'DejaVu Sans Mono',consolas,'Courier New',monospace\"><span style=\"font-weight: bold\"> Trainable params: </span><span style=\"color: #00af00; text-decoration-color: #00af00\">16,830,698</span> (64.20 MB)\n",
       "</pre>\n"
      ],
      "text/plain": [
       "\u001b[1m Trainable params: \u001b[0m\u001b[38;5;34m16,830,698\u001b[0m (64.20 MB)\n"
      ]
     },
     "metadata": {},
     "output_type": "display_data"
    },
    {
     "data": {
      "text/html": [
       "<pre style=\"white-space:pre;overflow-x:auto;line-height:normal;font-family:Menlo,'DejaVu Sans Mono',consolas,'Courier New',monospace\"><span style=\"font-weight: bold\"> Non-trainable params: </span><span style=\"color: #00af00; text-decoration-color: #00af00\">0</span> (0.00 B)\n",
       "</pre>\n"
      ],
      "text/plain": [
       "\u001b[1m Non-trainable params: \u001b[0m\u001b[38;5;34m0\u001b[0m (0.00 B)\n"
      ]
     },
     "metadata": {},
     "output_type": "display_data"
    },
    {
     "data": {
      "text/html": [
       "<pre style=\"white-space:pre;overflow-x:auto;line-height:normal;font-family:Menlo,'DejaVu Sans Mono',consolas,'Courier New',monospace\"><span style=\"font-weight: bold\"> Optimizer params: </span><span style=\"color: #00af00; text-decoration-color: #00af00\">16,830,700</span> (64.20 MB)\n",
       "</pre>\n"
      ],
      "text/plain": [
       "\u001b[1m Optimizer params: \u001b[0m\u001b[38;5;34m16,830,700\u001b[0m (64.20 MB)\n"
      ]
     },
     "metadata": {},
     "output_type": "display_data"
    }
   ],
   "source": [
    "from keras.models import load_model\n",
    "\n",
    "model = load_model(\"CNN_1008.keras\") \n",
    "model.summary()"
   ]
  },
  {
   "cell_type": "code",
   "execution_count": 23,
   "metadata": {},
   "outputs": [
    {
     "name": "stdout",
     "output_type": "stream",
     "text": [
      "MNIST:  (60000, 28, 28) (60000,) (10000, 28, 28) (10000,)\n",
      "MNIST:  (60000, 784) (60000, 10) (10000, 784) (10000, 10)\n",
      "CIFAR-10: (50000, 32, 32, 3) (50000, 1) (10000, 32, 32, 3) (10000, 1)\n"
     ]
    }
   ],
   "source": [
    "from tensorflow import keras\n",
    "import tensorflow as tf\n",
    "import numpy as np\n",
    "# cifar10 to grayscale\n",
    "# mnist, cifar 2차원 맞춰주기\n",
    "#cnn binary classification\n",
    "#mnist data label이 아니면 cifar로 분\n",
    "\n",
    "# MNIST 읽고 텐서 모양 출력\n",
    "(x_train, y_train), (x_test, y_test) = keras.datasets.mnist.load_data()\n",
    "print(\"MNIST: \",x_train.shape,y_train.shape,x_test.shape,y_test.shape)\n",
    "yy_train=tf.one_hot(y_train,10,dtype=tf.int8) #원핫 코드로 변환\n",
    "x_train=x_train.reshape(60000,784) #텐서 모양 변환\n",
    "x_test=x_test.reshape(10000,784)\n",
    "x_train=x_train.astype(np.float32)/255.0\n",
    "x_test=x_test.astype(np.float32)/255.0\n",
    "y_train=tf.keras.utils.to_categorical(y_train,10) #원핫 코드 변환\n",
    "y_test=tf.keras.utils.to_categorical(y_test,10)\n",
    "print(\"MNIST: \",x_train.shape,y_train.shape,x_test.shape,y_test.shape)\n",
    "\n",
    "#CIFAR-10 읽고 텐서 모양 출력\n",
    "(cifar_x_train,cifar_y_train), (cifar_x_test,cifar_y_test)=keras.datasets.cifar10.load_data()\n",
    "print(\"CIFAR-10:\", cifar_x_train.shape,cifar_y_train.shape,cifar_x_test.shape, cifar_y_test.shape)"
   ]
  },
  {
   "cell_type": "code",
   "execution_count": 27,
   "metadata": {},
   "outputs": [],
   "source": [
    "def get_numpy_from_nonfixed_2d_array(aa, fixed_length, padding_value=0):\n",
    "    rows = []\n",
    "    for a in aa:\n",
    "        rows.append(np.pad(a, (0, fixed_length), 'constant', constant_values=padding_value)[:fixed_length])\n",
    "    return np.concatenate(rows, axis=0).reshape(-1, fixed_length)"
   ]
  },
  {
   "cell_type": "code",
   "execution_count": 28,
   "metadata": {},
   "outputs": [
    {
     "name": "stdout",
     "output_type": "stream",
     "text": [
      "padding 전 x_train: (60000, 784)\n",
      "X_train shape: (60000, 3072)\n",
      "padding 전 x_test: (10000, 784)\n",
      "x_test shape: (60000, 3072)\n"
     ]
    }
   ],
   "source": [
    "print(\"padding 전 x_train:\",x_train.shape)\n",
    "x_train=get_numpy_from_nonfixed_2d_array(x_train, fixed_length=3072, padding_value=0)\n",
    "print(\"X_train shape:\",x_train.shape)\n",
    "\n",
    "print(\"padding 전 x_test:\",x_test.shape)\n",
    "x_test=get_numpy_from_nonfixed_2d_array(x_train, fixed_length=3072, padding_value=0)\n",
    "print(\"x_test shape:\",x_test.shape)"
   ]
  },
  {
   "cell_type": "code",
   "execution_count": 29,
   "metadata": {},
   "outputs": [
    {
     "name": "stdout",
     "output_type": "stream",
     "text": [
      "MNist: (180000, 32, 32, 1) (60000, 10, 10)\n"
     ]
    }
   ],
   "source": [
    "# CNN에 맞추기 위해 4D로 변환\n",
    "x_train = x_train.reshape(-1, 32, 32, 1)\n",
    "x_test = x_test.reshape(-1, 32, 32, 1)\n",
    "\n",
    "# CIFAR-10 레이블을 원핫 인코딩으로 변환\n",
    "y_train = tf.keras.utils.to_categorical(y_train, 10)\n",
    "y_test = tf.keras.utils.to_categorical(y_test, 10)\n",
    "\n",
    "print(\"MNist:\", x_train.shape, y_train.shape)"
   ]
  },
  {
   "cell_type": "code",
   "execution_count": 40,
   "metadata": {
    "scrolled": true
   },
   "outputs": [
    {
     "name": "stdout",
     "output_type": "stream",
     "text": [
      "['Airplane', 'Automobile', 'Bird', 'Cat', 'Deer', 'Dog', 'Frog', 'Horse', 'Ship', 'Truck', '0', '1', '2', '3', '4', '5', '6', '7', '8', '9']\n",
      "\u001b[1m1/1\u001b[0m \u001b[32m━━━━━━━━━━━━━━━━━━━━\u001b[0m\u001b[37m\u001b[0m \u001b[1m0s\u001b[0m 19ms/step\n",
      "Predicted class: Automobile\n",
      "Predicted class: 1\n"
     ]
    }
   ],
   "source": [
    "# CIFAR-10 클래스 이름\n",
    "classes_name = ['Airplane', 'Automobile', 'Bird', 'Cat', 'Deer', 'Dog', 'Frog', 'Horse', 'Ship', 'Truck']\n",
    "clases=[]\n",
    "\n",
    "for i in range(10):\n",
    "    temp=str(i)\n",
    "    classes_name.append(temp)\n",
    "    clases.append(temp)\n",
    "\n",
    "print(classes_name)\n",
    "\n",
    "input_data = np.expand_dims(x_test[12333], axis=0)  # Add batch dimension\n",
    "input_data = np.repeat(input_data, 1, axis=-1)  # Repeat the grayscale channel to create an RGB-like input\n",
    "    \n",
    "# 예측 수행\n",
    "preds = model.predict(input_data)\n",
    "    \n",
    "# 예측된 클래스의 인덱스를 구합니다.\n",
    "predicted_class = np.argmax(preds)\n",
    "\n",
    "print(f\"Predicted class: {classes_name[predicted_class]}\")\n",
    "print(f\"Predicted class: {clases[predicted_class]}\")"
   ]
  },
  {
   "cell_type": "code",
   "execution_count": null,
   "metadata": {},
   "outputs": [],
   "source": [
    "def predict_image_sample(model,X_test, y_test, test_id= -1 ):\n",
    "    if test_id <0 :\n",
    "        from random import randrange\n",
    "        test_sample_id = randrange(10000)\n",
    "    else:\n",
    "        test_sample_id = test_id\n",
    "    \n",
    "    test_image =X_test[test_sample_id]\n",
    "    plt.imshow(test_image, cmap = 'gray')\n",
    "    test_image=get_numpy_from_nonfixed_2d_array(x_train, fixed_length=3072, padding_value=0)\n",
    "    \n",
    "    test_image = test_image.reshape(-1,32,32,1)\n",
    "    \n",
    "    y_actual = y_test[test_sample_id]\n",
    "    print('y_actual number = ', y_actual)\n",
    "    \n",
    "    y_pred = model.predict(test_image)\n",
    "    print(\"y_pred = \", y_pred)\n",
    "    y_pred = np.argmax(y_pred, axis = 1)[0]\n",
    "    print('y_pred number = ', y_pred)\n",
    "    \n",
    "   \n",
    "\n",
    "(X_train, y_train), (X_test, y_test) = keras.datasets.mnist.load_data()\n",
    "predict_image_sample(model,X_test, y_test,  test_id= i)"
   ]
  },
  {
   "cell_type": "code",
   "execution_count": null,
   "metadata": {},
   "outputs": [],
   "source": [
    "class_names = list(dic.keys())\n",
    "class_counts = list(dic.values())\n",
    "\n",
    "# Plotting\n",
    "plt.figure(figsize=(10, 6))  # Set the figure size\n",
    "plt.bar(class_names, class_counts, color='skyblue')  # Create bar chart\n",
    "\n",
    "# Add labels and title\n",
    "plt.xlabel('Class Names')\n",
    "plt.ylabel('Count of Predictions')\n",
    "plt.title('Class Predictions Distribution')\n",
    "\n",
    "# Rotate class names for better readability\n",
    "plt.xticks(rotation=45)\n",
    "\n",
    "# Show the plot\n",
    "plt.show()"
   ]
  },
  {
   "cell_type": "code",
   "execution_count": 72,
   "metadata": {},
   "outputs": [
    {
     "data": {
      "image/png": "[encoded data removed]",
      "text/plain": [
       "<Figure size 1800x600 with 2 Axes>"
      ]
     },
     "metadata": {},
     "output_type": "display_data"
    }
   ],
   "source": [
    "plt.figure(figsize=(18,6))\n",
    "\n",
    "plt.subplot(1,2,1)\n",
    "plt.plot(history.history['loss'], color=\"blue\", label=\"Loss\")\n",
    "plt.ylabel(\"Loss\")\n",
    "plt.xlabel(\"Number of Epochs\")\n",
    "plt.legend()\n",
    "\n",
    "plt.subplot(1,2,2)\n",
    "plt.plot(history.history['accuracy'], color=\"green\", label=\"Accuracy\")\n",
    "plt.ylabel(\"Accuracy\")\n",
    "plt.xlabel(\"Number of Epochs\")\n",
    "plt.legend()\n",
    "\n",
    "plt.show()\n"
   ]
  }
 ],
 "metadata": {
  "kernelspec": {
   "display_name": "Python 3 (ipykernel)",
   "language": "python",
   "name": "python3"
  },
  "language_info": {
   "codemirror_mode": {
    "name": "ipython",
    "version": 3
   },
   "file_extension": ".py",
   "mimetype": "text/x-python",
   "name": "python",
   "nbconvert_exporter": "python",
   "pygments_lexer": "ipython3",
   "version": "3.9.18"
  }
 },
 "nbformat": 4,
 "nbformat_minor": 4
}
